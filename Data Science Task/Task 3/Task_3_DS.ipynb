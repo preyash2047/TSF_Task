{
  "nbformat": 4,
  "nbformat_minor": 0,
  "metadata": {
    "colab": {
      "name": "Task 3 DS",
      "provenance": [],
      "collapsed_sections": [
        "xpXdowrE9DxW",
        "tatLCVx88riS"
      ],
      "toc_visible": true
    },
    "kernelspec": {
      "name": "python3",
      "display_name": "Python 3"
    }
  },
  "cells": [
    {
      "cell_type": "markdown",
      "metadata": {
        "id": "l_LulNCC8z96"
      },
      "source": [
        "#**Sample Superstore Dataset Analysis to Improve Profit**"
      ]
    },
    {
      "cell_type": "markdown",
      "metadata": {
        "id": "xpXdowrE9DxW"
      },
      "source": [
        "# Importing the libraries"
      ]
    },
    {
      "cell_type": "code",
      "metadata": {
        "id": "nhKd4hWx9GFt"
      },
      "source": [
        "import numpy as np\n",
        "import matplotlib.pyplot as plt\n",
        "import pandas as pd\n",
        "import seaborn as sns"
      ],
      "execution_count": 196,
      "outputs": []
    },
    {
      "cell_type": "markdown",
      "metadata": {
        "id": "6JhpWJi59J1p"
      },
      "source": [
        "# Importing the dataset"
      ]
    },
    {
      "cell_type": "code",
      "metadata": {
        "id": "w7LmciDK8QrU"
      },
      "source": [
        "dataset = pd.read_csv('https://raw.githubusercontent.com/preyash2047/TSF_Task/main/Data%20Science%20Task/Task%203/SampleSuperstore.csv')"
      ],
      "execution_count": 202,
      "outputs": []
    },
    {
      "cell_type": "markdown",
      "metadata": {
        "id": "tatLCVx88riS"
      },
      "source": [
        "# Missing Data Handeling"
      ]
    },
    {
      "cell_type": "code",
      "metadata": {
        "id": "8dUB4vE28Ra7",
        "colab": {
          "base_uri": "https://localhost:8080/"
        },
        "outputId": "191a591e-7dc3-4105-f8a3-89c5207c1463"
      },
      "source": [
        "dataset.isna().sum()"
      ],
      "execution_count": 5,
      "outputs": [
        {
          "output_type": "execute_result",
          "data": {
            "text/plain": [
              "Ship Mode       0\n",
              "Segment         0\n",
              "Country         0\n",
              "City            0\n",
              "State           0\n",
              "Postal Code     0\n",
              "Region          0\n",
              "Category        0\n",
              "Sub-Category    0\n",
              "Sales           0\n",
              "Quantity        0\n",
              "Discount        0\n",
              "Profit          0\n",
              "dtype: int64"
            ]
          },
          "metadata": {
            "tags": []
          },
          "execution_count": 5
        }
      ]
    },
    {
      "cell_type": "markdown",
      "metadata": {
        "id": "meqZjkGL8xdt"
      },
      "source": [
        "Dataset does not have any missing value."
      ]
    },
    {
      "cell_type": "markdown",
      "metadata": {
        "id": "vIddgri49K-a"
      },
      "source": [
        "# Exploring the dataset"
      ]
    },
    {
      "cell_type": "code",
      "metadata": {
        "id": "KCMMLhHT8RYd",
        "colab": {
          "base_uri": "https://localhost:8080/",
          "height": 286
        },
        "outputId": "2a69858c-2f1b-42e3-f7d2-137bd9b11856"
      },
      "source": [
        "sns.heatmap(dataset.corr())"
      ],
      "execution_count": null,
      "outputs": [
        {
          "output_type": "execute_result",
          "data": {
            "text/plain": [
              "<matplotlib.axes._subplots.AxesSubplot at 0x7f8ae8692e80>"
            ]
          },
          "metadata": {
            "tags": []
          },
          "execution_count": 5
        },
        {
          "output_type": "display_data",
          "data": {
            "image/png": "[encoded data removed]",
            "text/plain": [
              "<Figure size 432x288 with 2 Axes>"
            ]
          },
          "metadata": {
            "tags": [],
            "needs_background": "light"
          }
        }
      ]
    },
    {
      "cell_type": "markdown",
      "metadata": {
        "id": "lVWUoMQA9XAr"
      },
      "source": [
        "**Conclusion**: insufficient relation with numeric values"
      ]
    },
    {
      "cell_type": "code",
      "metadata": {
        "id": "RPZyI9-c9o6V",
        "colab": {
          "base_uri": "https://localhost:8080/"
        },
        "outputId": "7d160366-7f2d-4187-8cd8-64e6220f1154"
      },
      "source": [
        "dataset.info()"
      ],
      "execution_count": null,
      "outputs": [
        {
          "output_type": "stream",
          "text": [
            "<class 'pandas.core.frame.DataFrame'>\n",
            "RangeIndex: 9994 entries, 0 to 9993\n",
            "Data columns (total 13 columns):\n",
            " #   Column        Non-Null Count  Dtype  \n",
            "---  ------        --------------  -----  \n",
            " 0   Ship Mode     9994 non-null   object \n",
            " 1   Segment       9994 non-null   object \n",
            " 2   Country       9994 non-null   object \n",
            " 3   City          9994 non-null   object \n",
            " 4   State         9994 non-null   object \n",
            " 5   Postal Code   9994 non-null   int64  \n",
            " 6   Region        9994 non-null   object \n",
            " 7   Category      9994 non-null   object \n",
            " 8   Sub-Category  9994 non-null   object \n",
            " 9   Sales         9994 non-null   float64\n",
            " 10  Quantity      9994 non-null   int64  \n",
            " 11  Discount      9994 non-null   float64\n",
            " 12  Profit        9994 non-null   float64\n",
            "dtypes: float64(3), int64(2), object(8)\n",
            "memory usage: 1015.1+ KB\n"
          ],
          "name": "stdout"
        }
      ]
    },
    {
      "cell_type": "code",
      "metadata": {
        "id": "U3eolE4h9o3s",
        "colab": {
          "base_uri": "https://localhost:8080/",
          "height": 297
        },
        "outputId": "a1b8c8df-f22b-4a9c-a6c4-49574326f281"
      },
      "source": [
        "dataset.describe()"
      ],
      "execution_count": null,
      "outputs": [
        {
          "output_type": "execute_result",
          "data": {
            "text/html": [
              "<div>\n",
              "<style scoped>\n",
              "    .dataframe tbody tr th:only-of-type {\n",
              "        vertical-align: middle;\n",
              "    }\n",
              "\n",
              "    .dataframe tbody tr th {\n",
              "        vertical-align: top;\n",
              "    }\n",
              "\n",
              "    .dataframe thead th {\n",
              "        text-align: right;\n",
              "    }\n",
              "</style>\n",
              "<table border=\"1\" class=\"dataframe\">\n",
              "  <thead>\n",
              "    <tr style=\"text-align: right;\">\n",
              "      <th></th>\n",
              "      <th>Postal Code</th>\n",
              "      <th>Sales</th>\n",
              "      <th>Quantity</th>\n",
              "      <th>Discount</th>\n",
              "      <th>Profit</th>\n",
              "    </tr>\n",
              "  </thead>\n",
              "  <tbody>\n",
              "    <tr>\n",
              "      <th>count</th>\n",
              "      <td>9994.000000</td>\n",
              "      <td>9994.000000</td>\n",
              "      <td>9994.000000</td>\n",
              "      <td>9994.000000</td>\n",
              "      <td>9994.000000</td>\n",
              "    </tr>\n",
              "    <tr>\n",
              "      <th>mean</th>\n",
              "      <td>55190.379428</td>\n",
              "      <td>229.858001</td>\n",
              "      <td>3.789574</td>\n",
              "      <td>0.156203</td>\n",
              "      <td>28.656896</td>\n",
              "    </tr>\n",
              "    <tr>\n",
              "      <th>std</th>\n",
              "      <td>32063.693350</td>\n",
              "      <td>623.245101</td>\n",
              "      <td>2.225110</td>\n",
              "      <td>0.206452</td>\n",
              "      <td>234.260108</td>\n",
              "    </tr>\n",
              "    <tr>\n",
              "      <th>min</th>\n",
              "      <td>1040.000000</td>\n",
              "      <td>0.444000</td>\n",
              "      <td>1.000000</td>\n",
              "      <td>0.000000</td>\n",
              "      <td>-6599.978000</td>\n",
              "    </tr>\n",
              "    <tr>\n",
              "      <th>25%</th>\n",
              "      <td>23223.000000</td>\n",
              "      <td>17.280000</td>\n",
              "      <td>2.000000</td>\n",
              "      <td>0.000000</td>\n",
              "      <td>1.728750</td>\n",
              "    </tr>\n",
              "    <tr>\n",
              "      <th>50%</th>\n",
              "      <td>56430.500000</td>\n",
              "      <td>54.490000</td>\n",
              "      <td>3.000000</td>\n",
              "      <td>0.200000</td>\n",
              "      <td>8.666500</td>\n",
              "    </tr>\n",
              "    <tr>\n",
              "      <th>75%</th>\n",
              "      <td>90008.000000</td>\n",
              "      <td>209.940000</td>\n",
              "      <td>5.000000</td>\n",
              "      <td>0.200000</td>\n",
              "      <td>29.364000</td>\n",
              "    </tr>\n",
              "    <tr>\n",
              "      <th>max</th>\n",
              "      <td>99301.000000</td>\n",
              "      <td>22638.480000</td>\n",
              "      <td>14.000000</td>\n",
              "      <td>0.800000</td>\n",
              "      <td>8399.976000</td>\n",
              "    </tr>\n",
              "  </tbody>\n",
              "</table>\n",
              "</div>"
            ],
            "text/plain": [
              "        Postal Code         Sales     Quantity     Discount       Profit\n",
              "count   9994.000000   9994.000000  9994.000000  9994.000000  9994.000000\n",
              "mean   55190.379428    229.858001     3.789574     0.156203    28.656896\n",
              "std    32063.693350    623.245101     2.225110     0.206452   234.260108\n",
              "min     1040.000000      0.444000     1.000000     0.000000 -6599.978000\n",
              "25%    23223.000000     17.280000     2.000000     0.000000     1.728750\n",
              "50%    56430.500000     54.490000     3.000000     0.200000     8.666500\n",
              "75%    90008.000000    209.940000     5.000000     0.200000    29.364000\n",
              "max    99301.000000  22638.480000    14.000000     0.800000  8399.976000"
            ]
          },
          "metadata": {
            "tags": []
          },
          "execution_count": 7
        }
      ]
    },
    {
      "cell_type": "code",
      "metadata": {
        "colab": {
          "base_uri": "https://localhost:8080/"
        },
        "id": "xizwRfk2WP06",
        "outputId": "9a85d141-bcb8-4af4-fab7-63941258b326"
      },
      "source": [
        "dataset.nunique()"
      ],
      "execution_count": 15,
      "outputs": [
        {
          "output_type": "execute_result",
          "data": {
            "text/plain": [
              "Ship Mode          4\n",
              "Segment            3\n",
              "Country            1\n",
              "City             531\n",
              "State             49\n",
              "Postal Code      631\n",
              "Region             4\n",
              "Category           3\n",
              "Sub-Category      17\n",
              "Sales           5825\n",
              "Quantity          14\n",
              "Discount          12\n",
              "Profit          7287\n",
              "dtype: int64"
            ]
          },
          "metadata": {
            "tags": []
          },
          "execution_count": 15
        }
      ]
    },
    {
      "cell_type": "code",
      "metadata": {
        "id": "JjXV92yi8RVp",
        "colab": {
          "base_uri": "https://localhost:8080/"
        },
        "outputId": "c162dcec-7f15-444a-88de-e598f1ff663a"
      },
      "source": [
        "for i in dataset.columns:\r\n",
        "  if i not in [\"Postal Code\",\"Sales\",\"Profit\"]:\r\n",
        "    print(f\"{i}: {dataset[i].unique()}\\n\")"
      ],
      "execution_count": 195,
      "outputs": [
        {
          "output_type": "stream",
          "text": [
            "Ship Mode: ['Second Class' 'Standard Class' 'First Class' 'Same Day']\n",
            "\n",
            "Segment: ['Consumer' 'Corporate' 'Home Office']\n",
            "\n",
            "Country: ['United States']\n",
            "\n",
            "City: ['Henderson' 'Los Angeles' 'Fort Lauderdale' 'Concord' 'Seattle'\n",
            " 'Fort Worth' 'Madison' 'West Jordan' 'San Francisco' 'Fremont'\n",
            " 'Philadelphia' 'Orem' 'Houston' 'Richardson' 'Naperville' 'Melbourne'\n",
            " 'Eagan' 'Westland' 'Dover' 'New Albany' 'New York City' 'Troy' 'Chicago'\n",
            " 'Gilbert' 'Springfield' 'Jackson' 'Memphis' 'Decatur' 'Durham' 'Columbia'\n",
            " 'Rochester' 'Minneapolis' 'Portland' 'Saint Paul' 'Aurora' 'Charlotte'\n",
            " 'Orland Park' 'Urbandale' 'Columbus' 'Bristol' 'Wilmington' 'Bloomington'\n",
            " 'Phoenix' 'Roseville' 'Independence' 'Pasadena' 'Newark' 'Franklin'\n",
            " 'Scottsdale' 'San Jose' 'Edmond' 'Carlsbad' 'San Antonio' 'Monroe'\n",
            " 'Fairfield' 'Grand Prairie' 'Redlands' 'Hamilton' 'Westfield' 'Akron'\n",
            " 'Denver' 'Dallas' 'Whittier' 'Saginaw' 'Medina' 'Dublin' 'Detroit'\n",
            " 'Tampa' 'Santa Clara' 'Lakeville' 'San Diego' 'Brentwood' 'Chapel Hill'\n",
            " 'Morristown' 'Cincinnati' 'Inglewood' 'Tamarac' 'Colorado Springs'\n",
            " 'Belleville' 'Taylor' 'Lakewood' 'Arlington' 'Arvada' 'Hackensack'\n",
            " 'Saint Petersburg' 'Long Beach' 'Hesperia' 'Murfreesboro' 'Layton'\n",
            " 'Austin' 'Lowell' 'Manchester' 'Harlingen' 'Tucson' 'Quincy'\n",
            " 'Pembroke Pines' 'Des Moines' 'Peoria' 'Las Vegas' 'Warwick' 'Miami'\n",
            " 'Huntington Beach' 'Richmond' 'Louisville' 'Lawrence' 'Canton'\n",
            " 'New Rochelle' 'Gastonia' 'Jacksonville' 'Auburn' 'Norman' 'Park Ridge'\n",
            " 'Amarillo' 'Lindenhurst' 'Huntsville' 'Fayetteville' 'Costa Mesa'\n",
            " 'Parker' 'Atlanta' 'Gladstone' 'Great Falls' 'Lakeland' 'Montgomery'\n",
            " 'Mesa' 'Green Bay' 'Anaheim' 'Marysville' 'Salem' 'Laredo' 'Grove City'\n",
            " 'Dearborn' 'Warner Robins' 'Vallejo' 'Mission Viejo' 'Rochester Hills'\n",
            " 'Plainfield' 'Sierra Vista' 'Vancouver' 'Cleveland' 'Tyler' 'Burlington'\n",
            " 'Waynesboro' 'Chester' 'Cary' 'Palm Coast' 'Mount Vernon' 'Hialeah'\n",
            " 'Oceanside' 'Evanston' 'Trenton' 'Cottage Grove' 'Bossier City'\n",
            " 'Lancaster' 'Asheville' 'Lake Elsinore' 'Omaha' 'Edmonds' 'Santa Ana'\n",
            " 'Milwaukee' 'Florence' 'Lorain' 'Linden' 'Salinas' 'New Brunswick'\n",
            " 'Garland' 'Norwich' 'Alexandria' 'Toledo' 'Farmington' 'Riverside'\n",
            " 'Torrance' 'Round Rock' 'Boca Raton' 'Virginia Beach' 'Murrieta'\n",
            " 'Olympia' 'Washington' 'Jefferson City' 'Saint Peters' 'Rockford'\n",
            " 'Brownsville' 'Yonkers' 'Oakland' 'Clinton' 'Encinitas' 'Roswell'\n",
            " 'Jonesboro' 'Antioch' 'Homestead' 'La Porte' 'Lansing' 'Cuyahoga Falls'\n",
            " 'Reno' 'Harrisonburg' 'Escondido' 'Royal Oak' 'Rockville' 'Coral Springs'\n",
            " 'Buffalo' 'Boynton Beach' 'Gulfport' 'Fresno' 'Greenville' 'Macon'\n",
            " 'Cedar Rapids' 'Providence' 'Pueblo' 'Deltona' 'Murray' 'Middletown'\n",
            " 'Freeport' 'Pico Rivera' 'Provo' 'Pleasant Grove' 'Smyrna' 'Parma'\n",
            " 'Mobile' 'New Bedford' 'Irving' 'Vineland' 'Glendale' 'Niagara Falls'\n",
            " 'Thomasville' 'Westminster' 'Coppell' 'Pomona' 'North Las Vegas'\n",
            " 'Allentown' 'Tempe' 'Laguna Niguel' 'Bridgeton' 'Everett' 'Watertown'\n",
            " 'Appleton' 'Bellevue' 'Allen' 'El Paso' 'Grapevine' 'Carrollton' 'Kent'\n",
            " 'Lafayette' 'Tigard' 'Skokie' 'Plano' 'Suffolk' 'Indianapolis' 'Bayonne'\n",
            " 'Greensboro' 'Baltimore' 'Kenosha' 'Olathe' 'Tulsa' 'Redmond' 'Raleigh'\n",
            " 'Muskogee' 'Meriden' 'Bowling Green' 'South Bend' 'Spokane' 'Keller'\n",
            " 'Port Orange' 'Medford' 'Charlottesville' 'Missoula' 'Apopka' 'Reading'\n",
            " 'Broomfield' 'Paterson' 'Oklahoma City' 'Chesapeake' 'Lubbock'\n",
            " 'Johnson City' 'San Bernardino' 'Leominster' 'Bozeman' 'Perth Amboy'\n",
            " 'Ontario' 'Rancho Cucamonga' 'Moorhead' 'Mesquite' 'Stockton'\n",
            " 'Ormond Beach' 'Sunnyvale' 'York' 'College Station' 'Saint Louis'\n",
            " 'Manteca' 'San Angelo' 'Salt Lake City' 'Knoxville' 'Little Rock'\n",
            " 'Lincoln Park' 'Marion' 'Littleton' 'Bangor' 'Southaven' 'New Castle'\n",
            " 'Midland' 'Sioux Falls' 'Fort Collins' 'Clarksville' 'Sacramento'\n",
            " 'Thousand Oaks' 'Malden' 'Holyoke' 'Albuquerque' 'Sparks' 'Coachella'\n",
            " 'Elmhurst' 'Passaic' 'North Charleston' 'Newport News' 'Jamestown'\n",
            " 'Mishawaka' 'La Quinta' 'Tallahassee' 'Nashville' 'Bellingham'\n",
            " 'Woodstock' 'Haltom City' 'Wheeling' 'Summerville' 'Hot Springs'\n",
            " 'Englewood' 'Las Cruces' 'Hoover' 'Frisco' 'Vacaville' 'Waukesha'\n",
            " 'Bakersfield' 'Pompano Beach' 'Corpus Christi' 'Redondo Beach' 'Orlando'\n",
            " 'Orange' 'Lake Charles' 'Highland Park' 'Hempstead' 'Noblesville'\n",
            " 'Apple Valley' 'Mount Pleasant' 'Sterling Heights' 'Eau Claire' 'Pharr'\n",
            " 'Billings' 'Gresham' 'Chattanooga' 'Meridian' 'Bolingbrook' 'Maple Grove'\n",
            " 'Woodland' 'Missouri City' 'Pearland' 'San Mateo' 'Grand Rapids'\n",
            " 'Visalia' 'Overland Park' 'Temecula' 'Yucaipa' 'Revere' 'Conroe'\n",
            " 'Tinley Park' 'Dubuque' 'Dearborn Heights' 'Santa Fe' 'Hickory'\n",
            " 'Carol Stream' 'Saint Cloud' 'North Miami' 'Plantation'\n",
            " 'Port Saint Lucie' 'Rock Hill' 'Odessa' 'West Allis' 'Chula Vista'\n",
            " 'Manhattan' 'Altoona' 'Thornton' 'Champaign' 'Texarkana' 'Edinburg'\n",
            " 'Baytown' 'Greenwood' 'Woonsocket' 'Superior' 'Bedford' 'Covington'\n",
            " 'Broken Arrow' 'Miramar' 'Hollywood' 'Deer Park' 'Wichita' 'Mcallen'\n",
            " 'Iowa City' 'Boise' 'Cranston' 'Port Arthur' 'Citrus Heights'\n",
            " 'The Colony' 'Daytona Beach' 'Bullhead City' 'Portage' 'Fargo' 'Elkhart'\n",
            " 'San Gabriel' 'Margate' 'Sandy Springs' 'Mentor' 'Lawton' 'Hampton'\n",
            " 'Rome' 'La Crosse' 'Lewiston' 'Hattiesburg' 'Danville' 'Logan'\n",
            " 'Waterbury' 'Athens' 'Avondale' 'Marietta' 'Yuma' 'Wausau' 'Pasco'\n",
            " 'Oak Park' 'Pensacola' 'League City' 'Gaithersburg' 'Lehi' 'Tuscaloosa'\n",
            " 'Moreno Valley' 'Georgetown' 'Loveland' 'Chandler' 'Helena' 'Kirkwood'\n",
            " 'Waco' 'Frankfort' 'Bethlehem' 'Grand Island' 'Woodbury' 'Rogers'\n",
            " 'Clovis' 'Jupiter' 'Santa Barbara' 'Cedar Hill' 'Norfolk' 'Draper'\n",
            " 'Ann Arbor' 'La Mesa' 'Pocatello' 'Holland' 'Milford' 'Buffalo Grove'\n",
            " 'Lake Forest' 'Redding' 'Chico' 'Utica' 'Conway' 'Cheyenne' 'Owensboro'\n",
            " 'Caldwell' 'Kenner' 'Nashua' 'Bartlett' 'Redwood City' 'Lebanon'\n",
            " 'Santa Maria' 'Des Plaines' 'Longview' 'Hendersonville' 'Waterloo'\n",
            " 'Cambridge' 'Palatine' 'Beverly' 'Eugene' 'Oxnard' 'Renton' 'Glenview'\n",
            " 'Delray Beach' 'Commerce City' 'Texas City' 'Wilson' 'Rio Rancho'\n",
            " 'Goldsboro' 'Montebello' 'El Cajon' 'Beaumont' 'West Palm Beach'\n",
            " 'Abilene' 'Normal' 'Saint Charles' 'Camarillo' 'Hillsboro' 'Burbank'\n",
            " 'Modesto' 'Garden City' 'Atlantic City' 'Longmont' 'Davis' 'Morgan Hill'\n",
            " 'Clifton' 'Sheboygan' 'East Point' 'Rapid City' 'Andover' 'Kissimmee'\n",
            " 'Shelton' 'Danbury' 'Sanford' 'San Marcos' 'Greeley' 'Mansfield' 'Elyria'\n",
            " 'Twin Falls' 'Coral Gables' 'Romeoville' 'Marlborough' 'Laurel' 'Bryan'\n",
            " 'Pine Bluff' 'Aberdeen' 'Hagerstown' 'East Orange' 'Arlington Heights'\n",
            " 'Oswego' 'Coon Rapids' 'San Clemente' 'San Luis Obispo' 'Springdale'\n",
            " 'Lodi' 'Mason']\n",
            "\n",
            "State: ['Kentucky' 'California' 'Florida' 'North Carolina' 'Washington' 'Texas'\n",
            " 'Wisconsin' 'Utah' 'Nebraska' 'Pennsylvania' 'Illinois' 'Minnesota'\n",
            " 'Michigan' 'Delaware' 'Indiana' 'New York' 'Arizona' 'Virginia'\n",
            " 'Tennessee' 'Alabama' 'South Carolina' 'Oregon' 'Colorado' 'Iowa' 'Ohio'\n",
            " 'Missouri' 'Oklahoma' 'New Mexico' 'Louisiana' 'Connecticut' 'New Jersey'\n",
            " 'Massachusetts' 'Georgia' 'Nevada' 'Rhode Island' 'Mississippi'\n",
            " 'Arkansas' 'Montana' 'New Hampshire' 'Maryland' 'District of Columbia'\n",
            " 'Kansas' 'Vermont' 'Maine' 'South Dakota' 'Idaho' 'North Dakota'\n",
            " 'Wyoming' 'West Virginia']\n",
            "\n",
            "Region: ['South' 'West' 'Central' 'East']\n",
            "\n",
            "Category: ['Furniture' 'Office Supplies' 'Technology']\n",
            "\n",
            "Sub-Category: ['Bookcases' 'Chairs' 'Labels' 'Tables' 'Storage' 'Furnishings' 'Art'\n",
            " 'Phones' 'Binders' 'Appliances' 'Paper' 'Accessories' 'Envelopes'\n",
            " 'Fasteners' 'Supplies' 'Machines' 'Copiers']\n",
            "\n",
            "Quantity: [ 2  3  5  7  4  6  9  1  8 14 11 13 10 12]\n",
            "\n",
            "Discount: [0.   0.45 0.2  0.8  0.3  0.5  0.7  0.6  0.32 0.1  0.4  0.15]\n",
            "\n"
          ],
          "name": "stdout"
        }
      ]
    },
    {
      "cell_type": "code",
      "metadata": {
        "id": "mEDs0Irl9o1F",
        "colab": {
          "base_uri": "https://localhost:8080/"
        },
        "outputId": "b7088646-4544-4376-ceec-6c6dc07867c8"
      },
      "source": [
        "dataset.columns"
      ],
      "execution_count": null,
      "outputs": [
        {
          "output_type": "execute_result",
          "data": {
            "text/plain": [
              "Index(['Ship Mode', 'Segment', 'Country', 'City', 'State', 'Postal Code',\n",
              "       'Region', 'Category', 'Sub-Category', 'Sales', 'Quantity', 'Discount',\n",
              "       'Profit'],\n",
              "      dtype='object')"
            ]
          },
          "metadata": {
            "tags": []
          },
          "execution_count": 8
        }
      ]
    },
    {
      "cell_type": "markdown",
      "metadata": {
        "id": "O-EMWLp5XUwH"
      },
      "source": [
        "# Sales to Profit Comperation\r\n"
      ]
    },
    {
      "cell_type": "code",
      "metadata": {
        "id": "2d5qfeEr-RvH"
      },
      "source": [
        "def SalestoProfit(target):\r\n",
        "  range = dataset.groupby(target).sum()\r\n",
        "  print((range[\"Profit\"]/range[\"Sales\"])*100)\r\n",
        "  print(\"\\n\")"
      ],
      "execution_count": 34,
      "outputs": []
    },
    {
      "cell_type": "code",
      "metadata": {
        "colab": {
          "base_uri": "https://localhost:8080/",
          "height": 587
        },
        "id": "zJ_S_YaGXnIq",
        "outputId": "4d3149fb-469f-44cb-d311-4311801e033b"
      },
      "source": [
        "Category = dataset.groupby([\"Category\", \"Sub-Category\"]).sum()\r\n",
        "Category"
      ],
      "execution_count": 38,
      "outputs": [
        {
          "output_type": "execute_result",
          "data": {
            "text/html": [
              "<div>\n",
              "<style scoped>\n",
              "    .dataframe tbody tr th:only-of-type {\n",
              "        vertical-align: middle;\n",
              "    }\n",
              "\n",
              "    .dataframe tbody tr th {\n",
              "        vertical-align: top;\n",
              "    }\n",
              "\n",
              "    .dataframe thead th {\n",
              "        text-align: right;\n",
              "    }\n",
              "</style>\n",
              "<table border=\"1\" class=\"dataframe\">\n",
              "  <thead>\n",
              "    <tr style=\"text-align: right;\">\n",
              "      <th></th>\n",
              "      <th></th>\n",
              "      <th>Postal Code</th>\n",
              "      <th>Sales</th>\n",
              "      <th>Quantity</th>\n",
              "      <th>Discount</th>\n",
              "      <th>Profit</th>\n",
              "    </tr>\n",
              "    <tr>\n",
              "      <th>Category</th>\n",
              "      <th>Sub-Category</th>\n",
              "      <th></th>\n",
              "      <th></th>\n",
              "      <th></th>\n",
              "      <th></th>\n",
              "      <th></th>\n",
              "    </tr>\n",
              "  </thead>\n",
              "  <tbody>\n",
              "    <tr>\n",
              "      <th rowspan=\"4\" valign=\"top\">Furniture</th>\n",
              "      <th>Bookcases</th>\n",
              "      <td>12771539</td>\n",
              "      <td>114879.9963</td>\n",
              "      <td>868</td>\n",
              "      <td>48.14</td>\n",
              "      <td>-3472.5560</td>\n",
              "    </tr>\n",
              "    <tr>\n",
              "      <th>Chairs</th>\n",
              "      <td>34936229</td>\n",
              "      <td>328449.1030</td>\n",
              "      <td>2356</td>\n",
              "      <td>105.00</td>\n",
              "      <td>26590.1663</td>\n",
              "    </tr>\n",
              "    <tr>\n",
              "      <th>Furnishings</th>\n",
              "      <td>51880430</td>\n",
              "      <td>91705.1640</td>\n",
              "      <td>3563</td>\n",
              "      <td>132.40</td>\n",
              "      <td>13059.1436</td>\n",
              "    </tr>\n",
              "    <tr>\n",
              "      <th>Tables</th>\n",
              "      <td>18607828</td>\n",
              "      <td>206965.5320</td>\n",
              "      <td>1241</td>\n",
              "      <td>83.35</td>\n",
              "      <td>-17725.4811</td>\n",
              "    </tr>\n",
              "    <tr>\n",
              "      <th rowspan=\"9\" valign=\"top\">Office Supplies</th>\n",
              "      <th>Appliances</th>\n",
              "      <td>25250538</td>\n",
              "      <td>107532.1610</td>\n",
              "      <td>1729</td>\n",
              "      <td>77.60</td>\n",
              "      <td>18138.0054</td>\n",
              "    </tr>\n",
              "    <tr>\n",
              "      <th>Art</th>\n",
              "      <td>43329658</td>\n",
              "      <td>27118.7920</td>\n",
              "      <td>3000</td>\n",
              "      <td>59.60</td>\n",
              "      <td>6527.7870</td>\n",
              "    </tr>\n",
              "    <tr>\n",
              "      <th>Binders</th>\n",
              "      <td>83626398</td>\n",
              "      <td>203412.7330</td>\n",
              "      <td>5974</td>\n",
              "      <td>567.00</td>\n",
              "      <td>30221.7633</td>\n",
              "    </tr>\n",
              "    <tr>\n",
              "      <th>Envelopes</th>\n",
              "      <td>13325731</td>\n",
              "      <td>16476.4020</td>\n",
              "      <td>906</td>\n",
              "      <td>20.40</td>\n",
              "      <td>6964.1767</td>\n",
              "    </tr>\n",
              "    <tr>\n",
              "      <th>Fasteners</th>\n",
              "      <td>12506063</td>\n",
              "      <td>3024.2800</td>\n",
              "      <td>914</td>\n",
              "      <td>17.80</td>\n",
              "      <td>949.5182</td>\n",
              "    </tr>\n",
              "    <tr>\n",
              "      <th>Labels</th>\n",
              "      <td>19552985</td>\n",
              "      <td>12486.3120</td>\n",
              "      <td>1400</td>\n",
              "      <td>25.00</td>\n",
              "      <td>5546.2540</td>\n",
              "    </tr>\n",
              "    <tr>\n",
              "      <th>Paper</th>\n",
              "      <td>76299221</td>\n",
              "      <td>78479.2060</td>\n",
              "      <td>5178</td>\n",
              "      <td>102.60</td>\n",
              "      <td>34053.5693</td>\n",
              "    </tr>\n",
              "    <tr>\n",
              "      <th>Storage</th>\n",
              "      <td>46248720</td>\n",
              "      <td>223843.6080</td>\n",
              "      <td>3158</td>\n",
              "      <td>63.20</td>\n",
              "      <td>21278.8264</td>\n",
              "    </tr>\n",
              "    <tr>\n",
              "      <th>Supplies</th>\n",
              "      <td>10633558</td>\n",
              "      <td>46673.5380</td>\n",
              "      <td>647</td>\n",
              "      <td>14.60</td>\n",
              "      <td>-1189.0995</td>\n",
              "    </tr>\n",
              "    <tr>\n",
              "      <th rowspan=\"4\" valign=\"top\">Technology</th>\n",
              "      <th>Accessories</th>\n",
              "      <td>44468434</td>\n",
              "      <td>167380.3180</td>\n",
              "      <td>2976</td>\n",
              "      <td>60.80</td>\n",
              "      <td>41936.6357</td>\n",
              "    </tr>\n",
              "    <tr>\n",
              "      <th>Copiers</th>\n",
              "      <td>3873477</td>\n",
              "      <td>149528.0300</td>\n",
              "      <td>234</td>\n",
              "      <td>11.00</td>\n",
              "      <td>55617.8249</td>\n",
              "    </tr>\n",
              "    <tr>\n",
              "      <th>Machines</th>\n",
              "      <td>6364668</td>\n",
              "      <td>189238.6310</td>\n",
              "      <td>440</td>\n",
              "      <td>35.20</td>\n",
              "      <td>3384.7569</td>\n",
              "    </tr>\n",
              "    <tr>\n",
              "      <th>Phones</th>\n",
              "      <td>47897175</td>\n",
              "      <td>330007.0540</td>\n",
              "      <td>3289</td>\n",
              "      <td>137.40</td>\n",
              "      <td>44515.7306</td>\n",
              "    </tr>\n",
              "  </tbody>\n",
              "</table>\n",
              "</div>"
            ],
            "text/plain": [
              "                              Postal Code        Sales  ...  Discount      Profit\n",
              "Category        Sub-Category                            ...                      \n",
              "Furniture       Bookcases        12771539  114879.9963  ...     48.14  -3472.5560\n",
              "                Chairs           34936229  328449.1030  ...    105.00  26590.1663\n",
              "                Furnishings      51880430   91705.1640  ...    132.40  13059.1436\n",
              "                Tables           18607828  206965.5320  ...     83.35 -17725.4811\n",
              "Office Supplies Appliances       25250538  107532.1610  ...     77.60  18138.0054\n",
              "                Art              43329658   27118.7920  ...     59.60   6527.7870\n",
              "                Binders          83626398  203412.7330  ...    567.00  30221.7633\n",
              "                Envelopes        13325731   16476.4020  ...     20.40   6964.1767\n",
              "                Fasteners        12506063    3024.2800  ...     17.80    949.5182\n",
              "                Labels           19552985   12486.3120  ...     25.00   5546.2540\n",
              "                Paper            76299221   78479.2060  ...    102.60  34053.5693\n",
              "                Storage          46248720  223843.6080  ...     63.20  21278.8264\n",
              "                Supplies         10633558   46673.5380  ...     14.60  -1189.0995\n",
              "Technology      Accessories      44468434  167380.3180  ...     60.80  41936.6357\n",
              "                Copiers           3873477  149528.0300  ...     11.00  55617.8249\n",
              "                Machines          6364668  189238.6310  ...     35.20   3384.7569\n",
              "                Phones           47897175  330007.0540  ...    137.40  44515.7306\n",
              "\n",
              "[17 rows x 5 columns]"
            ]
          },
          "metadata": {
            "tags": []
          },
          "execution_count": 38
        }
      ]
    },
    {
      "cell_type": "code",
      "metadata": {
        "colab": {
          "base_uri": "https://localhost:8080/"
        },
        "id": "q23AgmjCZCaI",
        "outputId": "c1d0a8bd-6908-4fdb-d879-31fdcbf7ba9e"
      },
      "source": [
        "SalestoProfit([\"Category\", \"Sub-Category\"])"
      ],
      "execution_count": 39,
      "outputs": [
        {
          "output_type": "stream",
          "text": [
            "Category         Sub-Category\n",
            "Furniture        Bookcases       -3.022768\n",
            "                 Chairs           8.095673\n",
            "                 Furnishings     14.240358\n",
            "                 Tables          -8.564460\n",
            "Office Supplies  Appliances      16.867517\n",
            "                 Art             24.071083\n",
            "                 Binders         14.857361\n",
            "                 Envelopes       42.267582\n",
            "                 Fasteners       31.396504\n",
            "                 Labels          44.418672\n",
            "                 Paper           43.391837\n",
            "                 Storage          9.506113\n",
            "                 Supplies        -2.547695\n",
            "Technology       Accessories     25.054700\n",
            "                 Copiers         37.195585\n",
            "                 Machines         1.788618\n",
            "                 Phones          13.489327\n",
            "dtype: float64\n",
            "\n",
            "\n"
          ],
          "name": "stdout"
        }
      ]
    },
    {
      "cell_type": "markdown",
      "metadata": {
        "id": "9c9WXKejcMLK"
      },
      "source": [
        "# How to improve Profit to sales ratio for Bookcases?\r\n",
        "\r\n"
      ]
    },
    {
      "cell_type": "code",
      "metadata": {
        "colab": {
          "base_uri": "https://localhost:8080/",
          "height": 167
        },
        "id": "GAqeh5jOZlHb",
        "outputId": "3dbb6a01-0b43-4754-b6dd-a50ae4c07298"
      },
      "source": [
        "dataset[dataset[\"Sub-Category\"] == \"Bookcases\"].groupby(\"Segment\").sum()"
      ],
      "execution_count": 64,
      "outputs": [
        {
          "output_type": "execute_result",
          "data": {
            "text/html": [
              "<div>\n",
              "<style scoped>\n",
              "    .dataframe tbody tr th:only-of-type {\n",
              "        vertical-align: middle;\n",
              "    }\n",
              "\n",
              "    .dataframe tbody tr th {\n",
              "        vertical-align: top;\n",
              "    }\n",
              "\n",
              "    .dataframe thead th {\n",
              "        text-align: right;\n",
              "    }\n",
              "</style>\n",
              "<table border=\"1\" class=\"dataframe\">\n",
              "  <thead>\n",
              "    <tr style=\"text-align: right;\">\n",
              "      <th></th>\n",
              "      <th>Postal Code</th>\n",
              "      <th>Sales</th>\n",
              "      <th>Quantity</th>\n",
              "      <th>Discount</th>\n",
              "      <th>Profit</th>\n",
              "    </tr>\n",
              "    <tr>\n",
              "      <th>Segment</th>\n",
              "      <th></th>\n",
              "      <th></th>\n",
              "      <th></th>\n",
              "      <th></th>\n",
              "      <th></th>\n",
              "    </tr>\n",
              "  </thead>\n",
              "  <tbody>\n",
              "    <tr>\n",
              "      <th>Consumer</th>\n",
              "      <td>7413225</td>\n",
              "      <td>68632.7290</td>\n",
              "      <td>496</td>\n",
              "      <td>29.01</td>\n",
              "      <td>-4435.6382</td>\n",
              "    </tr>\n",
              "    <tr>\n",
              "      <th>Corporate</th>\n",
              "      <td>3576136</td>\n",
              "      <td>34005.9243</td>\n",
              "      <td>271</td>\n",
              "      <td>14.00</td>\n",
              "      <td>638.4502</td>\n",
              "    </tr>\n",
              "    <tr>\n",
              "      <th>Home Office</th>\n",
              "      <td>1782178</td>\n",
              "      <td>12241.3430</td>\n",
              "      <td>101</td>\n",
              "      <td>5.13</td>\n",
              "      <td>324.6320</td>\n",
              "    </tr>\n",
              "  </tbody>\n",
              "</table>\n",
              "</div>"
            ],
            "text/plain": [
              "             Postal Code       Sales  Quantity  Discount     Profit\n",
              "Segment                                                            \n",
              "Consumer         7413225  68632.7290       496     29.01 -4435.6382\n",
              "Corporate        3576136  34005.9243       271     14.00   638.4502\n",
              "Home Office      1782178  12241.3430       101      5.13   324.6320"
            ]
          },
          "metadata": {
            "tags": []
          },
          "execution_count": 64
        }
      ]
    },
    {
      "cell_type": "code",
      "metadata": {
        "colab": {
          "base_uri": "https://localhost:8080/",
          "height": 323
        },
        "id": "a15ocJ92bWba",
        "outputId": "6e1b332a-7e94-42ed-885d-b46e23513bd1"
      },
      "source": [
        "dataset[dataset[\"Sub-Category\"] == \"Bookcases\"][dataset[\"Segment\"] == \"Consumer\"].groupby(\"Discount\").sum()"
      ],
      "execution_count": 57,
      "outputs": [
        {
          "output_type": "stream",
          "text": [
            "/usr/local/lib/python3.6/dist-packages/ipykernel_launcher.py:1: UserWarning: Boolean Series key will be reindexed to match DataFrame index.\n",
            "  \"\"\"Entry point for launching an IPython kernel.\n"
          ],
          "name": "stderr"
        },
        {
          "output_type": "execute_result",
          "data": {
            "text/html": [
              "<div>\n",
              "<style scoped>\n",
              "    .dataframe tbody tr th:only-of-type {\n",
              "        vertical-align: middle;\n",
              "    }\n",
              "\n",
              "    .dataframe tbody tr th {\n",
              "        vertical-align: top;\n",
              "    }\n",
              "\n",
              "    .dataframe thead th {\n",
              "        text-align: right;\n",
              "    }\n",
              "</style>\n",
              "<table border=\"1\" class=\"dataframe\">\n",
              "  <thead>\n",
              "    <tr style=\"text-align: right;\">\n",
              "      <th></th>\n",
              "      <th>Postal Code</th>\n",
              "      <th>Sales</th>\n",
              "      <th>Quantity</th>\n",
              "      <th>Profit</th>\n",
              "    </tr>\n",
              "    <tr>\n",
              "      <th>Discount</th>\n",
              "      <th></th>\n",
              "      <th></th>\n",
              "      <th></th>\n",
              "      <th></th>\n",
              "    </tr>\n",
              "  </thead>\n",
              "  <tbody>\n",
              "    <tr>\n",
              "      <th>0.00</th>\n",
              "      <td>1653205</td>\n",
              "      <td>15377.980</td>\n",
              "      <td>121</td>\n",
              "      <td>2636.9607</td>\n",
              "    </tr>\n",
              "    <tr>\n",
              "      <th>0.15</th>\n",
              "      <td>2681374</td>\n",
              "      <td>14728.018</td>\n",
              "      <td>102</td>\n",
              "      <td>456.5945</td>\n",
              "    </tr>\n",
              "    <tr>\n",
              "      <th>0.20</th>\n",
              "      <td>485386</td>\n",
              "      <td>20675.536</td>\n",
              "      <td>110</td>\n",
              "      <td>-226.3762</td>\n",
              "    </tr>\n",
              "    <tr>\n",
              "      <th>0.30</th>\n",
              "      <td>422595</td>\n",
              "      <td>2957.094</td>\n",
              "      <td>29</td>\n",
              "      <td>-387.9476</td>\n",
              "    </tr>\n",
              "    <tr>\n",
              "      <th>0.32</th>\n",
              "      <td>996382</td>\n",
              "      <td>8283.080</td>\n",
              "      <td>50</td>\n",
              "      <td>-1335.2122</td>\n",
              "    </tr>\n",
              "    <tr>\n",
              "      <th>0.50</th>\n",
              "      <td>246509</td>\n",
              "      <td>4767.440</td>\n",
              "      <td>36</td>\n",
              "      <td>-2724.3013</td>\n",
              "    </tr>\n",
              "    <tr>\n",
              "      <th>0.70</th>\n",
              "      <td>927774</td>\n",
              "      <td>1843.581</td>\n",
              "      <td>48</td>\n",
              "      <td>-2855.3561</td>\n",
              "    </tr>\n",
              "  </tbody>\n",
              "</table>\n",
              "</div>"
            ],
            "text/plain": [
              "          Postal Code      Sales  Quantity     Profit\n",
              "Discount                                             \n",
              "0.00          1653205  15377.980       121  2636.9607\n",
              "0.15          2681374  14728.018       102   456.5945\n",
              "0.20           485386  20675.536       110  -226.3762\n",
              "0.30           422595   2957.094        29  -387.9476\n",
              "0.32           996382   8283.080        50 -1335.2122\n",
              "0.50           246509   4767.440        36 -2724.3013\n",
              "0.70           927774   1843.581        48 -2855.3561"
            ]
          },
          "metadata": {
            "tags": []
          },
          "execution_count": 57
        }
      ]
    },
    {
      "cell_type": "markdown",
      "metadata": {
        "id": "6tJwcWQEb6m3"
      },
      "source": [
        "Conclusion: Company Shoud complety stop the Providing discount more then 15 % on Bookcases to Consumer Segment"
      ]
    },
    {
      "cell_type": "markdown",
      "metadata": {
        "id": "m93VNZeSctLu"
      },
      "source": [
        "# How to improve Profit to sales ratio for Tables?\r\n"
      ]
    },
    {
      "cell_type": "code",
      "metadata": {
        "colab": {
          "base_uri": "https://localhost:8080/",
          "height": 167
        },
        "id": "c-Hd0ZDrakcA",
        "outputId": "5d165d21-a70e-4301-a907-c4e682babb3e"
      },
      "source": [
        "dataset[dataset[\"Sub-Category\"] == \"Tables\"].groupby(\"Segment\").sum()"
      ],
      "execution_count": 54,
      "outputs": [
        {
          "output_type": "execute_result",
          "data": {
            "text/html": [
              "<div>\n",
              "<style scoped>\n",
              "    .dataframe tbody tr th:only-of-type {\n",
              "        vertical-align: middle;\n",
              "    }\n",
              "\n",
              "    .dataframe tbody tr th {\n",
              "        vertical-align: top;\n",
              "    }\n",
              "\n",
              "    .dataframe thead th {\n",
              "        text-align: right;\n",
              "    }\n",
              "</style>\n",
              "<table border=\"1\" class=\"dataframe\">\n",
              "  <thead>\n",
              "    <tr style=\"text-align: right;\">\n",
              "      <th></th>\n",
              "      <th>Postal Code</th>\n",
              "      <th>Sales</th>\n",
              "      <th>Quantity</th>\n",
              "      <th>Discount</th>\n",
              "      <th>Profit</th>\n",
              "    </tr>\n",
              "    <tr>\n",
              "      <th>Segment</th>\n",
              "      <th></th>\n",
              "      <th></th>\n",
              "      <th></th>\n",
              "      <th></th>\n",
              "      <th></th>\n",
              "    </tr>\n",
              "  </thead>\n",
              "  <tbody>\n",
              "    <tr>\n",
              "      <th>Consumer</th>\n",
              "      <td>9595614</td>\n",
              "      <td>99933.7950</td>\n",
              "      <td>602</td>\n",
              "      <td>42.30</td>\n",
              "      <td>-9728.0378</td>\n",
              "    </tr>\n",
              "    <tr>\n",
              "      <th>Corporate</th>\n",
              "      <td>5919724</td>\n",
              "      <td>70871.7175</td>\n",
              "      <td>419</td>\n",
              "      <td>27.55</td>\n",
              "      <td>-4906.4986</td>\n",
              "    </tr>\n",
              "    <tr>\n",
              "      <th>Home Office</th>\n",
              "      <td>3092490</td>\n",
              "      <td>36160.0195</td>\n",
              "      <td>220</td>\n",
              "      <td>13.50</td>\n",
              "      <td>-3090.9447</td>\n",
              "    </tr>\n",
              "  </tbody>\n",
              "</table>\n",
              "</div>"
            ],
            "text/plain": [
              "             Postal Code       Sales  Quantity  Discount     Profit\n",
              "Segment                                                            \n",
              "Consumer         9595614  99933.7950       602     42.30 -9728.0378\n",
              "Corporate        5919724  70871.7175       419     27.55 -4906.4986\n",
              "Home Office      3092490  36160.0195       220     13.50 -3090.9447"
            ]
          },
          "metadata": {
            "tags": []
          },
          "execution_count": 54
        }
      ]
    },
    {
      "cell_type": "code",
      "metadata": {
        "colab": {
          "base_uri": "https://localhost:8080/",
          "height": 197
        },
        "id": "emQvtO05dy0F",
        "outputId": "17dd8a99-3d02-46b7-9720-996cc682af48"
      },
      "source": [
        "dataset[dataset[\"Sub-Category\"] == \"Tables\"].groupby(\"Region\").sum()"
      ],
      "execution_count": 68,
      "outputs": [
        {
          "output_type": "execute_result",
          "data": {
            "text/html": [
              "<div>\n",
              "<style scoped>\n",
              "    .dataframe tbody tr th:only-of-type {\n",
              "        vertical-align: middle;\n",
              "    }\n",
              "\n",
              "    .dataframe tbody tr th {\n",
              "        vertical-align: top;\n",
              "    }\n",
              "\n",
              "    .dataframe thead th {\n",
              "        text-align: right;\n",
              "    }\n",
              "</style>\n",
              "<table border=\"1\" class=\"dataframe\">\n",
              "  <thead>\n",
              "    <tr style=\"text-align: right;\">\n",
              "      <th></th>\n",
              "      <th>Postal Code</th>\n",
              "      <th>Sales</th>\n",
              "      <th>Quantity</th>\n",
              "      <th>Discount</th>\n",
              "      <th>Profit</th>\n",
              "    </tr>\n",
              "    <tr>\n",
              "      <th>Region</th>\n",
              "      <th></th>\n",
              "      <th></th>\n",
              "      <th></th>\n",
              "      <th></th>\n",
              "      <th></th>\n",
              "    </tr>\n",
              "  </thead>\n",
              "  <tbody>\n",
              "    <tr>\n",
              "      <th>Central</th>\n",
              "      <td>4796414</td>\n",
              "      <td>39154.971</td>\n",
              "      <td>262</td>\n",
              "      <td>18.90</td>\n",
              "      <td>-3559.6504</td>\n",
              "    </tr>\n",
              "    <tr>\n",
              "      <th>East</th>\n",
              "      <td>1450415</td>\n",
              "      <td>39139.807</td>\n",
              "      <td>271</td>\n",
              "      <td>29.90</td>\n",
              "      <td>-11025.3801</td>\n",
              "    </tr>\n",
              "    <tr>\n",
              "      <th>South</th>\n",
              "      <td>1691531</td>\n",
              "      <td>43916.192</td>\n",
              "      <td>227</td>\n",
              "      <td>11.35</td>\n",
              "      <td>-4623.0579</td>\n",
              "    </tr>\n",
              "    <tr>\n",
              "      <th>West</th>\n",
              "      <td>10669468</td>\n",
              "      <td>84754.562</td>\n",
              "      <td>481</td>\n",
              "      <td>23.20</td>\n",
              "      <td>1482.6073</td>\n",
              "    </tr>\n",
              "  </tbody>\n",
              "</table>\n",
              "</div>"
            ],
            "text/plain": [
              "         Postal Code      Sales  Quantity  Discount      Profit\n",
              "Region                                                         \n",
              "Central      4796414  39154.971       262     18.90  -3559.6504\n",
              "East         1450415  39139.807       271     29.90 -11025.3801\n",
              "South        1691531  43916.192       227     11.35  -4623.0579\n",
              "West        10669468  84754.562       481     23.20   1482.6073"
            ]
          },
          "metadata": {
            "tags": []
          },
          "execution_count": 68
        }
      ]
    },
    {
      "cell_type": "code",
      "metadata": {
        "colab": {
          "base_uri": "https://localhost:8080/",
          "height": 257
        },
        "id": "rnHDC2Koc15X",
        "outputId": "aa0cf3ea-a956-4fb1-afde-46cfa2d79ea2"
      },
      "source": [
        "dataset[dataset[\"Sub-Category\"] == \"Tables\"].groupby(\"Discount\").sum()"
      ],
      "execution_count": 67,
      "outputs": [
        {
          "output_type": "execute_result",
          "data": {
            "text/html": [
              "<div>\n",
              "<style scoped>\n",
              "    .dataframe tbody tr th:only-of-type {\n",
              "        vertical-align: middle;\n",
              "    }\n",
              "\n",
              "    .dataframe tbody tr th {\n",
              "        vertical-align: top;\n",
              "    }\n",
              "\n",
              "    .dataframe thead th {\n",
              "        text-align: right;\n",
              "    }\n",
              "</style>\n",
              "<table border=\"1\" class=\"dataframe\">\n",
              "  <thead>\n",
              "    <tr style=\"text-align: right;\">\n",
              "      <th></th>\n",
              "      <th>Postal Code</th>\n",
              "      <th>Sales</th>\n",
              "      <th>Quantity</th>\n",
              "      <th>Profit</th>\n",
              "    </tr>\n",
              "    <tr>\n",
              "      <th>Discount</th>\n",
              "      <th></th>\n",
              "      <th></th>\n",
              "      <th></th>\n",
              "      <th></th>\n",
              "    </tr>\n",
              "  </thead>\n",
              "  <tbody>\n",
              "    <tr>\n",
              "      <th>0.00</th>\n",
              "      <td>4551597</td>\n",
              "      <td>71578.760</td>\n",
              "      <td>310</td>\n",
              "      <td>13276.2997</td>\n",
              "    </tr>\n",
              "    <tr>\n",
              "      <th>0.20</th>\n",
              "      <td>6519033</td>\n",
              "      <td>45430.232</td>\n",
              "      <td>281</td>\n",
              "      <td>-303.5580</td>\n",
              "    </tr>\n",
              "    <tr>\n",
              "      <th>0.30</th>\n",
              "      <td>2697681</td>\n",
              "      <td>25182.150</td>\n",
              "      <td>180</td>\n",
              "      <td>-3402.3276</td>\n",
              "    </tr>\n",
              "    <tr>\n",
              "      <th>0.40</th>\n",
              "      <td>1811053</td>\n",
              "      <td>45614.406</td>\n",
              "      <td>292</td>\n",
              "      <td>-16187.3968</td>\n",
              "    </tr>\n",
              "    <tr>\n",
              "      <th>0.45</th>\n",
              "      <td>362615</td>\n",
              "      <td>5484.974</td>\n",
              "      <td>45</td>\n",
              "      <td>-2493.1111</td>\n",
              "    </tr>\n",
              "    <tr>\n",
              "      <th>0.50</th>\n",
              "      <td>2665849</td>\n",
              "      <td>13675.010</td>\n",
              "      <td>133</td>\n",
              "      <td>-8615.3873</td>\n",
              "    </tr>\n",
              "  </tbody>\n",
              "</table>\n",
              "</div>"
            ],
            "text/plain": [
              "          Postal Code      Sales  Quantity      Profit\n",
              "Discount                                              \n",
              "0.00          4551597  71578.760       310  13276.2997\n",
              "0.20          6519033  45430.232       281   -303.5580\n",
              "0.30          2697681  25182.150       180  -3402.3276\n",
              "0.40          1811053  45614.406       292 -16187.3968\n",
              "0.45           362615   5484.974        45  -2493.1111\n",
              "0.50          2665849  13675.010       133  -8615.3873"
            ]
          },
          "metadata": {
            "tags": []
          },
          "execution_count": 67
        }
      ]
    },
    {
      "cell_type": "markdown",
      "metadata": {
        "id": "UEDaRhrbXamh"
      },
      "source": [
        "Conclusion: Company Shoud complety stop the Providing discount for Tables"
      ]
    },
    {
      "cell_type": "markdown",
      "metadata": {
        "id": "ysA_2YApd-TQ"
      },
      "source": [
        "# How to improve Profit to sales ratio for Supplies?\r\n"
      ]
    },
    {
      "cell_type": "code",
      "metadata": {
        "colab": {
          "base_uri": "https://localhost:8080/",
          "height": 167
        },
        "id": "uRs3vWBnd-Tp",
        "outputId": "b9649e79-17fd-498d-aeae-50191f405597"
      },
      "source": [
        "dataset[dataset[\"Sub-Category\"] == \"Supplies\"].groupby(\"Segment\").sum()"
      ],
      "execution_count": 71,
      "outputs": [
        {
          "output_type": "execute_result",
          "data": {
            "text/html": [
              "<div>\n",
              "<style scoped>\n",
              "    .dataframe tbody tr th:only-of-type {\n",
              "        vertical-align: middle;\n",
              "    }\n",
              "\n",
              "    .dataframe tbody tr th {\n",
              "        vertical-align: top;\n",
              "    }\n",
              "\n",
              "    .dataframe thead th {\n",
              "        text-align: right;\n",
              "    }\n",
              "</style>\n",
              "<table border=\"1\" class=\"dataframe\">\n",
              "  <thead>\n",
              "    <tr style=\"text-align: right;\">\n",
              "      <th></th>\n",
              "      <th>Postal Code</th>\n",
              "      <th>Sales</th>\n",
              "      <th>Quantity</th>\n",
              "      <th>Discount</th>\n",
              "      <th>Profit</th>\n",
              "    </tr>\n",
              "    <tr>\n",
              "      <th>Segment</th>\n",
              "      <th></th>\n",
              "      <th></th>\n",
              "      <th></th>\n",
              "      <th></th>\n",
              "      <th></th>\n",
              "    </tr>\n",
              "  </thead>\n",
              "  <tbody>\n",
              "    <tr>\n",
              "      <th>Consumer</th>\n",
              "      <td>5371200</td>\n",
              "      <td>25741.496</td>\n",
              "      <td>359</td>\n",
              "      <td>9.0</td>\n",
              "      <td>-1657.5513</td>\n",
              "    </tr>\n",
              "    <tr>\n",
              "      <th>Corporate</th>\n",
              "      <td>3631876</td>\n",
              "      <td>19435.284</td>\n",
              "      <td>202</td>\n",
              "      <td>3.8</td>\n",
              "      <td>338.9264</td>\n",
              "    </tr>\n",
              "    <tr>\n",
              "      <th>Home Office</th>\n",
              "      <td>1630482</td>\n",
              "      <td>1496.758</td>\n",
              "      <td>86</td>\n",
              "      <td>1.8</td>\n",
              "      <td>129.5254</td>\n",
              "    </tr>\n",
              "  </tbody>\n",
              "</table>\n",
              "</div>"
            ],
            "text/plain": [
              "             Postal Code      Sales  Quantity  Discount     Profit\n",
              "Segment                                                           \n",
              "Consumer         5371200  25741.496       359       9.0 -1657.5513\n",
              "Corporate        3631876  19435.284       202       3.8   338.9264\n",
              "Home Office      1630482   1496.758        86       1.8   129.5254"
            ]
          },
          "metadata": {
            "tags": []
          },
          "execution_count": 71
        }
      ]
    },
    {
      "cell_type": "code",
      "metadata": {
        "colab": {
          "base_uri": "https://localhost:8080/",
          "height": 197
        },
        "id": "a2kO8F8Cd-Tr",
        "outputId": "905c4bae-2adc-4229-8078-781fe18f69de"
      },
      "source": [
        "dataset[dataset[\"Sub-Category\"] == \"Supplies\"].groupby(\"Region\").sum()"
      ],
      "execution_count": 72,
      "outputs": [
        {
          "output_type": "execute_result",
          "data": {
            "text/html": [
              "<div>\n",
              "<style scoped>\n",
              "    .dataframe tbody tr th:only-of-type {\n",
              "        vertical-align: middle;\n",
              "    }\n",
              "\n",
              "    .dataframe tbody tr th {\n",
              "        vertical-align: top;\n",
              "    }\n",
              "\n",
              "    .dataframe thead th {\n",
              "        text-align: right;\n",
              "    }\n",
              "</style>\n",
              "<table border=\"1\" class=\"dataframe\">\n",
              "  <thead>\n",
              "    <tr style=\"text-align: right;\">\n",
              "      <th></th>\n",
              "      <th>Postal Code</th>\n",
              "      <th>Sales</th>\n",
              "      <th>Quantity</th>\n",
              "      <th>Discount</th>\n",
              "      <th>Profit</th>\n",
              "    </tr>\n",
              "    <tr>\n",
              "      <th>Region</th>\n",
              "      <th></th>\n",
              "      <th></th>\n",
              "      <th></th>\n",
              "      <th></th>\n",
              "      <th></th>\n",
              "    </tr>\n",
              "  </thead>\n",
              "  <tbody>\n",
              "    <tr>\n",
              "      <th>Central</th>\n",
              "      <td>2476283</td>\n",
              "      <td>9467.372</td>\n",
              "      <td>122</td>\n",
              "      <td>5.2</td>\n",
              "      <td>-661.8881</td>\n",
              "    </tr>\n",
              "    <tr>\n",
              "      <th>East</th>\n",
              "      <td>871489</td>\n",
              "      <td>10760.116</td>\n",
              "      <td>195</td>\n",
              "      <td>3.8</td>\n",
              "      <td>-1155.1352</td>\n",
              "    </tr>\n",
              "    <tr>\n",
              "      <th>South</th>\n",
              "      <td>943802</td>\n",
              "      <td>8318.928</td>\n",
              "      <td>92</td>\n",
              "      <td>3.0</td>\n",
              "      <td>1.8773</td>\n",
              "    </tr>\n",
              "    <tr>\n",
              "      <th>West</th>\n",
              "      <td>6341984</td>\n",
              "      <td>18127.122</td>\n",
              "      <td>238</td>\n",
              "      <td>2.6</td>\n",
              "      <td>626.0465</td>\n",
              "    </tr>\n",
              "  </tbody>\n",
              "</table>\n",
              "</div>"
            ],
            "text/plain": [
              "         Postal Code      Sales  Quantity  Discount     Profit\n",
              "Region                                                        \n",
              "Central      2476283   9467.372       122       5.2  -661.8881\n",
              "East          871489  10760.116       195       3.8 -1155.1352\n",
              "South         943802   8318.928        92       3.0     1.8773\n",
              "West         6341984  18127.122       238       2.6   626.0465"
            ]
          },
          "metadata": {
            "tags": []
          },
          "execution_count": 72
        }
      ]
    },
    {
      "cell_type": "code",
      "metadata": {
        "colab": {
          "base_uri": "https://localhost:8080/",
          "height": 173
        },
        "id": "XBnePc1hd-Tr",
        "outputId": "1687aa58-79f5-4e72-eb0c-e66e09a37394"
      },
      "source": [
        "dataset[dataset[\"Sub-Category\"] == \"Supplies\"][dataset[\"Segment\"] == \"Consumer\"].groupby(\"Discount\").sum()"
      ],
      "execution_count": 73,
      "outputs": [
        {
          "output_type": "stream",
          "text": [
            "/usr/local/lib/python3.6/dist-packages/ipykernel_launcher.py:1: UserWarning: Boolean Series key will be reindexed to match DataFrame index.\n",
            "  \"\"\"Entry point for launching an IPython kernel.\n"
          ],
          "name": "stderr"
        },
        {
          "output_type": "execute_result",
          "data": {
            "text/html": [
              "<div>\n",
              "<style scoped>\n",
              "    .dataframe tbody tr th:only-of-type {\n",
              "        vertical-align: middle;\n",
              "    }\n",
              "\n",
              "    .dataframe tbody tr th {\n",
              "        vertical-align: top;\n",
              "    }\n",
              "\n",
              "    .dataframe thead th {\n",
              "        text-align: right;\n",
              "    }\n",
              "</style>\n",
              "<table border=\"1\" class=\"dataframe\">\n",
              "  <thead>\n",
              "    <tr style=\"text-align: right;\">\n",
              "      <th></th>\n",
              "      <th>Postal Code</th>\n",
              "      <th>Sales</th>\n",
              "      <th>Quantity</th>\n",
              "      <th>Profit</th>\n",
              "    </tr>\n",
              "    <tr>\n",
              "      <th>Discount</th>\n",
              "      <th></th>\n",
              "      <th></th>\n",
              "      <th></th>\n",
              "      <th></th>\n",
              "    </tr>\n",
              "  </thead>\n",
              "  <tbody>\n",
              "    <tr>\n",
              "      <th>0.0</th>\n",
              "      <td>2961827</td>\n",
              "      <td>13001.160</td>\n",
              "      <td>203</td>\n",
              "      <td>837.2333</td>\n",
              "    </tr>\n",
              "    <tr>\n",
              "      <th>0.2</th>\n",
              "      <td>2409373</td>\n",
              "      <td>12740.336</td>\n",
              "      <td>156</td>\n",
              "      <td>-2494.7846</td>\n",
              "    </tr>\n",
              "  </tbody>\n",
              "</table>\n",
              "</div>"
            ],
            "text/plain": [
              "          Postal Code      Sales  Quantity     Profit\n",
              "Discount                                             \n",
              "0.0           2961827  13001.160       203   837.2333\n",
              "0.2           2409373  12740.336       156 -2494.7846"
            ]
          },
          "metadata": {
            "tags": []
          },
          "execution_count": 73
        }
      ]
    },
    {
      "cell_type": "markdown",
      "metadata": {
        "id": "h5jCndR2d-Ts"
      },
      "source": [
        "Conclusion: Company Shoud complety stop the Providing discount for Supplies to Customer Segmet"
      ]
    },
    {
      "cell_type": "markdown",
      "metadata": {
        "id": "sp629kgmfCW8"
      },
      "source": [
        "# Segment Improvement"
      ]
    },
    {
      "cell_type": "code",
      "metadata": {
        "colab": {
          "base_uri": "https://localhost:8080/",
          "height": 167
        },
        "id": "744eJDniWHwE",
        "outputId": "d2d89dbf-ecd4-4b95-ae3e-84bdb9563a5f"
      },
      "source": [
        "dataset.groupby(\"Segment\").sum()"
      ],
      "execution_count": 75,
      "outputs": [
        {
          "output_type": "execute_result",
          "data": {
            "text/html": [
              "<div>\n",
              "<style scoped>\n",
              "    .dataframe tbody tr th:only-of-type {\n",
              "        vertical-align: middle;\n",
              "    }\n",
              "\n",
              "    .dataframe tbody tr th {\n",
              "        vertical-align: top;\n",
              "    }\n",
              "\n",
              "    .dataframe thead th {\n",
              "        text-align: right;\n",
              "    }\n",
              "</style>\n",
              "<table border=\"1\" class=\"dataframe\">\n",
              "  <thead>\n",
              "    <tr style=\"text-align: right;\">\n",
              "      <th></th>\n",
              "      <th>Postal Code</th>\n",
              "      <th>Sales</th>\n",
              "      <th>Quantity</th>\n",
              "      <th>Discount</th>\n",
              "      <th>Profit</th>\n",
              "    </tr>\n",
              "    <tr>\n",
              "      <th>Segment</th>\n",
              "      <th></th>\n",
              "      <th></th>\n",
              "      <th></th>\n",
              "      <th></th>\n",
              "      <th></th>\n",
              "    </tr>\n",
              "  </thead>\n",
              "  <tbody>\n",
              "    <tr>\n",
              "      <th>Consumer</th>\n",
              "      <td>288878609</td>\n",
              "      <td>1.161401e+06</td>\n",
              "      <td>19521</td>\n",
              "      <td>820.91</td>\n",
              "      <td>134119.2092</td>\n",
              "    </tr>\n",
              "    <tr>\n",
              "      <th>Corporate</th>\n",
              "      <td>164536330</td>\n",
              "      <td>7.061464e+05</td>\n",
              "      <td>11608</td>\n",
              "      <td>477.85</td>\n",
              "      <td>91979.1340</td>\n",
              "    </tr>\n",
              "    <tr>\n",
              "      <th>Home Office</th>\n",
              "      <td>98157713</td>\n",
              "      <td>4.296531e+05</td>\n",
              "      <td>6744</td>\n",
              "      <td>262.33</td>\n",
              "      <td>60298.6785</td>\n",
              "    </tr>\n",
              "  </tbody>\n",
              "</table>\n",
              "</div>"
            ],
            "text/plain": [
              "             Postal Code         Sales  Quantity  Discount       Profit\n",
              "Segment                                                                \n",
              "Consumer       288878609  1.161401e+06     19521    820.91  134119.2092\n",
              "Corporate      164536330  7.061464e+05     11608    477.85   91979.1340\n",
              "Home Office     98157713  4.296531e+05      6744    262.33   60298.6785"
            ]
          },
          "metadata": {
            "tags": []
          },
          "execution_count": 75
        }
      ]
    },
    {
      "cell_type": "code",
      "metadata": {
        "colab": {
          "base_uri": "https://localhost:8080/"
        },
        "id": "p7MxnLbzfuVu",
        "outputId": "18dcca18-e6b9-4a27-fe6b-96eee784bfaa"
      },
      "source": [
        "dataset.groupby(\"Segment\")[\"Segment\"].count()"
      ],
      "execution_count": 83,
      "outputs": [
        {
          "output_type": "execute_result",
          "data": {
            "text/plain": [
              "Segment\n",
              "Consumer       5191\n",
              "Corporate      3020\n",
              "Home Office    1783\n",
              "Name: Segment, dtype: int64"
            ]
          },
          "metadata": {
            "tags": []
          },
          "execution_count": 83
        }
      ]
    },
    {
      "cell_type": "markdown",
      "metadata": {
        "id": "JhUkLj_BfgpF"
      },
      "source": [
        "Conclusion: Company is advised to incress the customer from Home Office Segment"
      ]
    },
    {
      "cell_type": "markdown",
      "metadata": {
        "id": "k8sikOhTgqjA"
      },
      "source": [
        "# Category wise Analysis with Sub-Category, Region, State and Segment"
      ]
    },
    {
      "cell_type": "code",
      "metadata": {
        "id": "FzlP8TSAvqZ-"
      },
      "source": [
        "pd.set_option('display.max_rows', None)\r\n",
        "#pd.reset_option(“max_columns”)"
      ],
      "execution_count": 199,
      "outputs": []
    },
    {
      "cell_type": "code",
      "metadata": {
        "id": "MpWwl4tOhY9z"
      },
      "source": [
        "region = dataset.groupby([\"Category\",\"Sub-Category\",\"Region\",\"State\",\"Segment\"]).mean()\r\n",
        "region[\"SalesToProfit\"] = (region.Profit/region.Sales)*100\r\n",
        "report = region[region.SalesToProfit <= 0]\r\n",
        "report"
      ],
      "execution_count": null,
      "outputs": []
    },
    {
      "cell_type": "code",
      "metadata": {
        "colab": {
          "base_uri": "https://localhost:8080/"
        },
        "id": "9W_gYx13oE80",
        "outputId": "32a2ac18-ab13-406b-e7b5-0c72b440ab89"
      },
      "source": [
        "report_data = report.index.values\r\n",
        "report_data = [list(i) for i in report_data]\r\n",
        "print(\"Category\", np.unique([i[0] for i in report_data]))\r\n",
        "print(\"Sub-Category\",np.unique([i[1] for i in report_data]))"
      ],
      "execution_count": 193,
      "outputs": [
        {
          "output_type": "stream",
          "text": [
            "Category ['Furniture' 'Office Supplies' 'Technology']\n",
            "Sub-Category ['Accessories' 'Appliances' 'Binders' 'Bookcases' 'Chairs' 'Fasteners'\n",
            " 'Furnishings' 'Machines' 'Phones' 'Storage' 'Supplies' 'Tables']\n"
          ],
          "name": "stdout"
        }
      ]
    },
    {
      "cell_type": "markdown",
      "metadata": {
        "id": "Lk6mno3ir_pJ"
      },
      "source": [
        "Conclusion: Above Sub-Category requires special attention while giving discount as this category "
      ]
    }
  ]
}