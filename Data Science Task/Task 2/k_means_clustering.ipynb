{
  "nbformat": 4,
  "nbformat_minor": 0,
  "metadata": {
    "colab": {
      "name": "k_means_clustering.ipynb",
      "provenance": [],
      "toc_visible": true
    },
    "kernelspec": {
      "display_name": "Python 3",
      "language": "python",
      "name": "python3"
    },
    "language_info": {
      "codemirror_mode": {
        "name": "ipython",
        "version": 3
      },
      "file_extension": ".py",
      "mimetype": "text/x-python",
      "name": "python",
      "nbconvert_exporter": "python",
      "pygments_lexer": "ipython3",
      "version": "3.7.7"
    }
  },
  "cells": [
    {
      "cell_type": "markdown",
      "metadata": {
        "id": "i_paGd_yLbgH"
      },
      "source": [
        "# K-Means Clustering"
      ]
    },
    {
      "cell_type": "markdown",
      "metadata": {
        "id": "nAuqPwTnLipr"
      },
      "source": [
        "## Importing the libraries"
      ]
    },
    {
      "cell_type": "code",
      "metadata": {
        "id": "yUXGcC4KLmcL"
      },
      "source": [
        "import numpy as np\n",
        "import matplotlib.pyplot as plt\n",
        "import pandas as pd"
      ],
      "execution_count": 1,
      "outputs": []
    },
    {
      "cell_type": "markdown",
      "metadata": {
        "id": "5LciKOr8Lo5O"
      },
      "source": [
        "## Importing the dataset"
      ]
    },
    {
      "cell_type": "code",
      "metadata": {
        "id": "9RlmPzZGLtGi"
      },
      "source": [
        "dataset = pd.read_csv(\"Iris.csv\")\n",
        "X = dataset.values"
      ],
      "execution_count": 18,
      "outputs": []
    },
    {
      "cell_type": "markdown",
      "metadata": {
        "id": "4VgL8yjMyvur"
      },
      "source": [
        "## Encoding categorical data"
      ]
    },
    {
      "cell_type": "code",
      "metadata": {
        "id": "tK-kofdYxweI",
        "outputId": "1fa84de5-3d95-40d6-f038-7963dbe935be",
        "colab": {
          "base_uri": "https://localhost:8080/"
        }
      },
      "source": [
        "from sklearn.compose import ColumnTransformer\r\n",
        "from sklearn.preprocessing import OneHotEncoder\r\n",
        "ct = ColumnTransformer(transformers=[('encoder', OneHotEncoder(), [-1])], remainder='passthrough')\r\n",
        "X = np.array(ct.fit_transform(X))\r\n",
        "X"
      ],
      "execution_count": 19,
      "outputs": [
        {
          "output_type": "execute_result",
          "data": {
            "text/plain": [
              "array([[1.0, 0.0, 0.0, ..., 3.5, 1.4, 0.2],\n",
              "       [1.0, 0.0, 0.0, ..., 3.0, 1.4, 0.2],\n",
              "       [1.0, 0.0, 0.0, ..., 3.2, 1.3, 0.2],\n",
              "       ...,\n",
              "       [0.0, 0.0, 1.0, ..., 3.0, 5.2, 2.0],\n",
              "       [0.0, 0.0, 1.0, ..., 3.4, 5.4, 2.3],\n",
              "       [0.0, 0.0, 1.0, ..., 3.0, 5.1, 1.8]], dtype=object)"
            ]
          },
          "metadata": {
            "tags": []
          },
          "execution_count": 19
        }
      ]
    },
    {
      "cell_type": "markdown",
      "metadata": {
        "id": "nWC2EWp2Lx5G"
      },
      "source": [
        "## Using the elbow method to find the optimal number of clusters"
      ]
    },
    {
      "cell_type": "code",
      "metadata": {
        "colab": {
          "base_uri": "https://localhost:8080/",
          "height": 295
        },
        "id": "zWs6ciOoL1b3",
        "outputId": "2f067737-378b-442d-ebb1-4978a23df238"
      },
      "source": [
        "from sklearn.cluster import KMeans\n",
        "wcss = []\n",
        "for i in range(1, 11):\n",
        "    kmeans = KMeans(n_clusters = i, init = 'k-means++', random_state = 42)\n",
        "    kmeans.fit(X)\n",
        "    wcss.append(kmeans.inertia_)\n",
        "plt.plot(range(1, 11), wcss)\n",
        "plt.title('The Elbow Method')\n",
        "plt.xlabel('Number of clusters')\n",
        "plt.ylabel('WCSS')\n",
        "plt.show()"
      ],
      "execution_count": 20,
      "outputs": [
        {
          "output_type": "display_data",
          "data": {
            "image/png": "[encoded data removed]",
            "text/plain": [
              "<Figure size 432x288 with 1 Axes>"
            ]
          },
          "metadata": {
            "tags": [],
            "needs_background": "light"
          }
        }
      ]
    },
    {
      "cell_type": "markdown",
      "metadata": {
        "id": "NfeCbc-jy6--"
      },
      "source": [
        "We can select 3 or 4 Cluster as per the Elbo Method."
      ]
    },
    {
      "cell_type": "markdown",
      "metadata": {
        "id": "VgT0mANLL4Nz"
      },
      "source": [
        "## Training the K-Means model on the dataset"
      ]
    },
    {
      "cell_type": "code",
      "metadata": {
        "id": "cjEfU6ZSMAPl"
      },
      "source": [
        "kmeans = KMeans(n_clusters = 3, init = 'k-means++')\n",
        "y_kmeans = kmeans.fit_predict(X)"
      ],
      "execution_count": 21,
      "outputs": []
    },
    {
      "cell_type": "code",
      "metadata": {
        "id": "9dFla5WAIqeb"
      },
      "source": [
        "dataset[\"Cluster\"] = y_kmeans\n",
        "cluster_data = dataset.groupby(by = \"Cluster\").mean()\n",
        "cluster_data[\"Count\"] = [(dataset.Cluster[dataset.Cluster == 0]).count(),(dataset.Cluster[dataset.Cluster == 1]).count(),(dataset.Cluster[dataset.Cluster == 2]).count()]\n",
        "cluster_data = cluster_data.drop(columns=\"Id\")"
      ],
      "execution_count": 23,
      "outputs": []
    },
    {
      "cell_type": "code",
      "metadata": {
        "colab": {
          "base_uri": "https://localhost:8080/",
          "height": 173
        },
        "id": "s6aquExXI6Yf",
        "outputId": "aacbbd62-9d33-452d-9bf2-5b79cb91eea0"
      },
      "source": [
        "cluster_data"
      ],
      "execution_count": 26,
      "outputs": [
        {
          "output_type": "execute_result",
          "data": {
            "text/html": [
              "<div>\n",
              "<style scoped>\n",
              "    .dataframe tbody tr th:only-of-type {\n",
              "        vertical-align: middle;\n",
              "    }\n",
              "\n",
              "    .dataframe tbody tr th {\n",
              "        vertical-align: top;\n",
              "    }\n",
              "\n",
              "    .dataframe thead th {\n",
              "        text-align: right;\n",
              "    }\n",
              "</style>\n",
              "<table border=\"1\" class=\"dataframe\">\n",
              "  <thead>\n",
              "    <tr style=\"text-align: right;\">\n",
              "      <th></th>\n",
              "      <th>SepalLengthCm</th>\n",
              "      <th>SepalWidthCm</th>\n",
              "      <th>PetalLengthCm</th>\n",
              "      <th>PetalWidthCm</th>\n",
              "      <th>Count</th>\n",
              "    </tr>\n",
              "    <tr>\n",
              "      <th>Cluster</th>\n",
              "      <th></th>\n",
              "      <th></th>\n",
              "      <th></th>\n",
              "      <th></th>\n",
              "      <th></th>\n",
              "    </tr>\n",
              "  </thead>\n",
              "  <tbody>\n",
              "    <tr>\n",
              "      <th>0</th>\n",
              "      <td>5.922000</td>\n",
              "      <td>2.780000</td>\n",
              "      <td>4.206000</td>\n",
              "      <td>1.304000</td>\n",
              "      <td>50</td>\n",
              "    </tr>\n",
              "    <tr>\n",
              "      <th>1</th>\n",
              "      <td>6.570588</td>\n",
              "      <td>2.970588</td>\n",
              "      <td>5.523529</td>\n",
              "      <td>2.011765</td>\n",
              "      <td>51</td>\n",
              "    </tr>\n",
              "    <tr>\n",
              "      <th>2</th>\n",
              "      <td>5.006122</td>\n",
              "      <td>3.420408</td>\n",
              "      <td>1.465306</td>\n",
              "      <td>0.244898</td>\n",
              "      <td>49</td>\n",
              "    </tr>\n",
              "  </tbody>\n",
              "</table>\n",
              "</div>"
            ],
            "text/plain": [
              "         SepalLengthCm  SepalWidthCm  PetalLengthCm  PetalWidthCm  Count\n",
              "Cluster                                                                 \n",
              "0             5.922000      2.780000       4.206000      1.304000     50\n",
              "1             6.570588      2.970588       5.523529      2.011765     51\n",
              "2             5.006122      3.420408       1.465306      0.244898     49"
            ]
          },
          "metadata": {
            "tags": []
          },
          "execution_count": 26
        }
      ]
    },
    {
      "cell_type": "markdown",
      "metadata": {
        "id": "NeNJgo-dzjN_"
      },
      "source": [
        "# Conclusion\r\n",
        "\r\n",
        "> Here we have divided data in three clusters which contain almost the same no of records which is considered as best dataset structure.\r\n",
        "\r\n"
      ]
    }
  ]
}